{
  "nbformat": 4,
  "nbformat_minor": 0,
  "metadata": {
    "colab": {
      "provenance": [],
      "authorship_tag": "ABX9TyNmPK6agonEfAck9u5mSVvj",
      "include_colab_link": true
    },
    "kernelspec": {
      "name": "python3",
      "display_name": "Python 3"
    },
    "language_info": {
      "name": "python"
    }
  },
  "cells": [
    {
      "cell_type": "markdown",
      "metadata": {
        "id": "view-in-github",
        "colab_type": "text"
      },
      "source": [
        "<a href=\"https://colab.research.google.com/github/ImenBoukhari/AlgorithmeGenetiques/blob/main/TSP_AG.ipynb\" target=\"_parent\"><img src=\"https://colab.research.google.com/assets/colab-badge.svg\" alt=\"Open In Colab\"/></a>"
      ]
    },
    {
      "cell_type": "markdown",
      "source": [
        "# **Travelling Salesperson Problem solved using genetic algorithms**"
      ],
      "metadata": {
        "id": "eiJi-FQuYOab"
      }
    },
    {
      "cell_type": "code",
      "execution_count": 11,
      "metadata": {
        "id": "cDT08MRGSQcO"
      },
      "outputs": [],
      "source": [
        "# Imports \n",
        "import numpy as np\n",
        "import random\n",
        "\n",
        "from datetime import datetime\n",
        "# Parameters\n",
        "n_cities = 15\n",
        "n_population = 100\n",
        "mutation_rate = 0.3"
      ]
    },
    {
      "cell_type": "code",
      "source": [
        "# Generating a list of coordenades representing each city\n",
        "coordinates_list = [[x,y] for x,y in zip(np.random.randint(0,100,n_cities),np.random.randint(0,100,n_cities))]\n",
        "names_list = np.array(['Berlin', 'London', 'Moscow', 'Barcelona', 'Rome', 'Paris', 'Vienna', 'Munich', 'Istanbul', 'Kyiv', 'Bucharest', 'Minsk', 'Warsaw', 'Budapest', 'Milan', 'Prague', 'Sofia', 'Birmingham', 'Brussels', 'Amsterdam'])\n",
        "cities_dict = { x:y for x,y in zip(names_list,coordinates_list)}\n",
        "\n",
        "# Function to compute the distance between two points\n",
        "def compute_city_distance_coordinates(a,b):\n",
        "    return ((a[0]-b[0])**2+(a[1]-b[1])**2)**0.5\n",
        "\n",
        "def compute_city_distance_names(city_a, city_b, cities_dict):\n",
        "    return compute_city_distance_coordinates(cities_dict[city_a], cities_dict[city_b])\n",
        "\n",
        "cities_dict\n"
      ],
      "metadata": {
        "colab": {
          "base_uri": "https://localhost:8080/"
        },
        "id": "afeVyTT2WQpc",
        "outputId": "5e4e9213-4266-4698-ba1a-21932ce0c175"
      },
      "execution_count": 12,
      "outputs": [
        {
          "output_type": "execute_result",
          "data": {
            "text/plain": [
              "{'Berlin': [4, 45],\n",
              " 'London': [89, 23],\n",
              " 'Moscow': [45, 46],\n",
              " 'Barcelona': [5, 30],\n",
              " 'Rome': [41, 88],\n",
              " 'Paris': [25, 58],\n",
              " 'Vienna': [7, 32],\n",
              " 'Munich': [64, 20],\n",
              " 'Istanbul': [95, 70],\n",
              " 'Kyiv': [74, 6],\n",
              " 'Bucharest': [94, 62],\n",
              " 'Minsk': [52, 39],\n",
              " 'Warsaw': [59, 2],\n",
              " 'Budapest': [54, 63],\n",
              " 'Milan': [46, 78]}"
            ]
          },
          "metadata": {},
          "execution_count": 12
        }
      ]
    },
    {
      "cell_type": "markdown",
      "source": [
        "#1. Create the first population set"
      ],
      "metadata": {
        "id": "dVJ2Loq8YBZZ"
      }
    },
    {
      "cell_type": "code",
      "source": [
        "\n",
        "# First step: Create the first population set\n",
        "def genesis(city_list, n_population):\n",
        "\n",
        "    population_set = []\n",
        "    for i in range(n_population):\n",
        "        #Randomly generating a new solution\n",
        "        sol_i = city_list[np.random.choice(list(range(n_cities)), n_cities, replace=False)]\n",
        "        population_set.append(sol_i)\n",
        "    return np.array(population_set)\n",
        "\n",
        "population_set = genesis(names_list, n_population)\n",
        "population_set\n"
      ],
      "metadata": {
        "colab": {
          "base_uri": "https://localhost:8080/"
        },
        "id": "NZfGYLE-Wn2E",
        "outputId": "4541eb33-8cfb-446c-a6ec-2e5ed7c5fd9e"
      },
      "execution_count": 13,
      "outputs": [
        {
          "output_type": "execute_result",
          "data": {
            "text/plain": [
              "array([['Paris', 'Istanbul', 'Bucharest', ..., 'Moscow', 'Rome', 'Milan'],\n",
              "       ['Warsaw', 'Moscow', 'Minsk', ..., 'Barcelona', 'Kyiv', 'Paris'],\n",
              "       ['Minsk', 'Rome', 'Istanbul', ..., 'Warsaw', 'Kyiv', 'Vienna'],\n",
              "       ...,\n",
              "       ['Istanbul', 'Berlin', 'Munich', ..., 'London', 'Warsaw',\n",
              "        'Budapest'],\n",
              "       ['Warsaw', 'Istanbul', 'Bucharest', ..., 'Minsk', 'Munich',\n",
              "        'London'],\n",
              "       ['Milan', 'Kyiv', 'Minsk', ..., 'Warsaw', 'Berlin', 'Rome']],\n",
              "      dtype='<U10')"
            ]
          },
          "metadata": {},
          "execution_count": 13
        }
      ]
    },
    {
      "cell_type": "markdown",
      "source": [
        "#2. Evaluate solutions fitness"
      ],
      "metadata": {
        "id": "_f9NBZZlX8-8"
      }
    },
    {
      "cell_type": "code",
      "source": [
        "def fitness_eval(city_list, cities_dict):\n",
        "    total = 0\n",
        "    for i in range(n_cities-1):\n",
        "        a = city_list[i]\n",
        "        b = city_list[i+1]\n",
        "        total += compute_city_distance_names(a,b, cities_dict)\n",
        "    return total"
      ],
      "metadata": {
        "id": "BOkRonkmW4U5"
      },
      "execution_count": 14,
      "outputs": []
    },
    {
      "cell_type": "code",
      "source": [
        "def get_all_fitnes(population_set, cities_dict):\n",
        "    fitnes_list = np.zeros(n_population)\n",
        "\n",
        "    #Looping over all solutions computing the fitness for each solution\n",
        "    for i in  range(n_population):\n",
        "        fitnes_list[i] = fitness_eval(population_set[i], cities_dict)\n",
        "\n",
        "    return fitnes_list\n",
        "\n",
        "fitnes_list = get_all_fitnes(population_set,cities_dict)\n",
        "fitnes_list"
      ],
      "metadata": {
        "colab": {
          "base_uri": "https://localhost:8080/"
        },
        "id": "ddE3uD1IW8yU",
        "outputId": "18429e3b-ffba-41a9-f75a-5f77a1738692"
      },
      "execution_count": 15,
      "outputs": [
        {
          "output_type": "execute_result",
          "data": {
            "text/plain": [
              "array([674.87389709, 746.39754233, 770.7443766 , 614.77952817,\n",
              "       813.92341302, 726.35821242, 605.01045007, 750.39749743,\n",
              "       697.55903669, 708.65289288, 804.9759322 , 718.23270654,\n",
              "       777.11515745, 719.8359205 , 713.56921273, 806.87481534,\n",
              "       846.60360562, 612.30839308, 766.72408149, 855.09686184,\n",
              "       626.27327627, 777.13934304, 723.56564314, 630.71804283,\n",
              "       776.77963009, 804.1976735 , 729.98115103, 759.29242786,\n",
              "       597.53182446, 628.30912257, 738.36094161, 734.01598896,\n",
              "       807.05500476, 746.12220091, 778.67802588, 752.37111286,\n",
              "       737.73893365, 822.51148783, 726.54451897, 602.84952547,\n",
              "       816.63101598, 743.20765884, 924.73648197, 681.5671232 ,\n",
              "       759.66257218, 703.45815206, 800.63011553, 650.89050376,\n",
              "       781.52452886, 733.75530809, 819.70518419, 636.72367812,\n",
              "       673.12337113, 777.40500682, 723.72040145, 830.00203585,\n",
              "       633.5613181 , 787.88718366, 771.72362977, 746.48759206,\n",
              "       707.33879809, 734.44465989, 607.6574799 , 760.62244932,\n",
              "       764.76576069, 856.81334835, 530.80473643, 691.22996117,\n",
              "       718.18784762, 892.85513246, 668.39446598, 668.56180392,\n",
              "       756.75886062, 628.90888785, 733.87682602, 619.77676216,\n",
              "       660.79451059, 683.48128623, 725.67609728, 784.75519382,\n",
              "       679.98883714, 783.06655567, 726.93243809, 708.879132  ,\n",
              "       727.21079804, 774.59671394, 683.47224623, 783.4154774 ,\n",
              "       787.76628544, 757.36526541, 766.705446  , 619.56870769,\n",
              "       575.70095405, 683.25960991, 706.26784366, 705.64765125,\n",
              "       836.37231896, 786.9578102 , 620.36225707, 771.66574149])"
            ]
          },
          "metadata": {},
          "execution_count": 15
        }
      ]
    },
    {
      "cell_type": "markdown",
      "source": [
        "#3. Progenitors selection"
      ],
      "metadata": {
        "id": "19oxcQTqX2QF"
      }
    },
    {
      "cell_type": "code",
      "source": [
        "\n",
        "def progenitor_selection(population_set,fitnes_list):\n",
        "    total_fit = fitnes_list.sum()\n",
        "    prob_list = fitnes_list/total_fit\n",
        "    \n",
        "    #Notice there is the chance that a progenitor. mates with oneself\n",
        "    progenitor_list_a = np.random.choice(list(range(len(population_set))), len(population_set),p=prob_list, replace=True)\n",
        "    progenitor_list_b = np.random.choice(list(range(len(population_set))), len(population_set),p=prob_list, replace=True)\n",
        "    \n",
        "    progenitor_list_a = population_set[progenitor_list_a]\n",
        "    progenitor_list_b = population_set[progenitor_list_b]\n",
        "    \n",
        "    \n",
        "    return np.array([progenitor_list_a,progenitor_list_b])\n",
        "\n",
        "\n",
        "progenitor_list = progenitor_selection(population_set,fitnes_list)\n",
        "progenitor_list[0][2]"
      ],
      "metadata": {
        "colab": {
          "base_uri": "https://localhost:8080/"
        },
        "id": "f6_C-pDDW_uD",
        "outputId": "2aabc3d2-b374-4604-b385-c2c9c209dbd6"
      },
      "execution_count": 16,
      "outputs": [
        {
          "output_type": "execute_result",
          "data": {
            "text/plain": [
              "array(['Munich', 'Minsk', 'Barcelona', 'Paris', 'Kyiv', 'Vienna',\n",
              "       'Warsaw', 'Milan', 'Berlin', 'London', 'Moscow', 'Rome',\n",
              "       'Bucharest', 'Istanbul', 'Budapest'], dtype='<U10')"
            ]
          },
          "metadata": {},
          "execution_count": 16
        }
      ]
    },
    {
      "cell_type": "markdown",
      "source": [
        "#4. Mating"
      ],
      "metadata": {
        "id": "c_kPqBVbXvmQ"
      }
    },
    {
      "cell_type": "code",
      "source": [
        "def mate_progenitors(prog_a, prog_b):\n",
        "    offspring = prog_a[0:5]\n",
        "\n",
        "    for city in prog_b:\n",
        "\n",
        "        if not city in offspring:\n",
        "            offspring = np.concatenate((offspring,[city]))\n",
        "\n",
        "    return offspring\n",
        "            \n",
        "    \n",
        "    \n",
        "def mate_population(progenitor_list):\n",
        "    new_population_set = []\n",
        "    for i in range(progenitor_list.shape[1]):\n",
        "        prog_a, prog_b = progenitor_list[0][i], progenitor_list[1][i]\n",
        "        offspring = mate_progenitors(prog_a, prog_b)\n",
        "        new_population_set.append(offspring)\n",
        "        \n",
        "    return new_population_set\n",
        "\n",
        "new_population_set = mate_population(progenitor_list)\n",
        "new_population_set[0]"
      ],
      "metadata": {
        "colab": {
          "base_uri": "https://localhost:8080/"
        },
        "id": "7fdGTCiIXE4S",
        "outputId": "3c2a73ec-664e-4a35-d4d2-ea2875684a42"
      },
      "execution_count": 17,
      "outputs": [
        {
          "output_type": "execute_result",
          "data": {
            "text/plain": [
              "array(['Bucharest', 'Rome', 'Moscow', 'Barcelona', 'Budapest', 'London',\n",
              "       'Warsaw', 'Berlin', 'Istanbul', 'Kyiv', 'Minsk', 'Paris', 'Munich',\n",
              "       'Milan', 'Vienna'], dtype='<U10')"
            ]
          },
          "metadata": {},
          "execution_count": 17
        }
      ]
    },
    {
      "cell_type": "markdown",
      "source": [
        "#5. Mutation"
      ],
      "metadata": {
        "id": "unSW4jOJXn-g"
      }
    },
    {
      "cell_type": "code",
      "source": [
        "def mutate_offspring(offspring):\n",
        "    for q in range(int(n_cities*mutation_rate)):\n",
        "        a = np.random.randint(0,n_cities)\n",
        "        b = np.random.randint(0,n_cities)\n",
        "\n",
        "        offspring[a], offspring[b] = offspring[b], offspring[a]\n",
        "\n",
        "    return offspring\n",
        "    \n",
        "    \n",
        "def mutate_population(new_population_set):\n",
        "    mutated_pop = []\n",
        "    for offspring in new_population_set:\n",
        "        mutated_pop.append(mutate_offspring(offspring))\n",
        "    return mutated_pop\n",
        "\n",
        "mutated_pop = mutate_population(new_population_set)\n",
        "mutated_pop[0]"
      ],
      "metadata": {
        "colab": {
          "base_uri": "https://localhost:8080/"
        },
        "id": "xunn2H1mXL7d",
        "outputId": "459e18f5-74cb-4939-cee8-fa910fa3be88"
      },
      "execution_count": 18,
      "outputs": [
        {
          "output_type": "execute_result",
          "data": {
            "text/plain": [
              "array(['Bucharest', 'Warsaw', 'Moscow', 'Rome', 'Budapest', 'Barcelona',\n",
              "       'London', 'Berlin', 'Istanbul', 'Kyiv', 'Milan', 'Paris', 'Munich',\n",
              "       'Minsk', 'Vienna'], dtype='<U10')"
            ]
          },
          "metadata": {},
          "execution_count": 18
        }
      ]
    },
    {
      "cell_type": "markdown",
      "source": [
        "#6. Stopping"
      ],
      "metadata": {
        "id": "ywaWgKDqXjka"
      }
    },
    {
      "cell_type": "code",
      "source": [
        "\n",
        "best_solution = [-1,np.inf,np.array([])]\n",
        "for i in range(10000):\n",
        "    if i%100==0: print(i, fitnes_list.min(), fitnes_list.mean(), datetime.now().strftime(\"%d/%m/%y %H:%M\"))\n",
        "    fitnes_list = get_all_fitnes(mutated_pop,cities_dict)\n",
        "    \n",
        "    #Saving the best solution\n",
        "    if fitnes_list.min() < best_solution[1]:\n",
        "        best_solution[0] = i\n",
        "        best_solution[1] = fitnes_list.min()\n",
        "        best_solution[2] = np.array(mutated_pop)[fitnes_list.min() == fitnes_list]\n",
        "    \n",
        "    progenitor_list = progenitor_selection(population_set,fitnes_list)\n",
        "    new_population_set = mate_population(progenitor_list)\n",
        "    \n",
        "    mutated_pop = mutate_population(new_population_set)"
      ],
      "metadata": {
        "colab": {
          "base_uri": "https://localhost:8080/"
        },
        "id": "LGbSGeG-XOyj",
        "outputId": "79fdb89a-87f9-48a2-e8cb-ec256db0ccfc"
      },
      "execution_count": 19,
      "outputs": [
        {
          "output_type": "stream",
          "name": "stdout",
          "text": [
            "0 530.8047364318326 729.0737922879724 09/12/22 19:29\n",
            "100 518.1237794836732 720.3678181187636 09/12/22 19:29\n",
            "200 481.9088423255364 729.3447003165052 09/12/22 19:29\n",
            "300 550.6018410444084 722.2850780006698 09/12/22 19:29\n",
            "400 508.7356983455555 735.308076755121 09/12/22 19:29\n",
            "500 512.7088452520096 725.5542894307163 09/12/22 19:29\n",
            "600 539.8680670756906 723.3454993474792 09/12/22 19:29\n",
            "700 506.29049477817944 710.4168646269682 09/12/22 19:29\n",
            "800 564.8298063690868 719.6028500839341 09/12/22 19:29\n",
            "900 500.2673476982858 740.8134033578225 09/12/22 19:29\n",
            "1000 525.446477389493 717.4891358715852 09/12/22 19:29\n",
            "1100 515.4602383085776 729.373267280337 09/12/22 19:29\n",
            "1200 567.0007077388675 729.4360929691436 09/12/22 19:29\n",
            "1300 511.51156279836687 726.6286484240885 09/12/22 19:29\n",
            "1400 539.6058165854773 741.9455320169311 09/12/22 19:29\n",
            "1500 570.9086631183889 729.8736966509107 09/12/22 19:29\n",
            "1600 582.1018646665619 731.8209057696979 09/12/22 19:29\n",
            "1700 603.0906578535963 730.3265140078371 09/12/22 19:29\n",
            "1800 547.5861468355671 736.6760982277748 09/12/22 19:29\n",
            "1900 536.9530292580231 721.8146833152113 09/12/22 19:29\n",
            "2000 529.1874293668723 729.9961367925816 09/12/22 19:29\n",
            "2100 544.2656822473609 718.0556749070811 09/12/22 19:29\n",
            "2200 448.7914752580777 738.3364845238086 09/12/22 19:29\n",
            "2300 526.1576225568158 723.4170536748861 09/12/22 19:30\n",
            "2400 559.1928962832196 718.4174134404003 09/12/22 19:30\n",
            "2500 526.8582686595929 724.8908240348471 09/12/22 19:30\n",
            "2600 494.73059494502667 734.0312497558294 09/12/22 19:30\n",
            "2700 543.7578519906144 730.3173924752473 09/12/22 19:30\n",
            "2800 567.6780694996993 742.4125273464545 09/12/22 19:30\n",
            "2900 546.0292289675089 723.387611940087 09/12/22 19:30\n",
            "3000 566.3153779953493 731.3820593828353 09/12/22 19:30\n",
            "3100 522.6891363469301 729.2592965542688 09/12/22 19:30\n",
            "3200 577.1075950382747 738.0608592223862 09/12/22 19:30\n",
            "3300 562.7217984462667 726.4015123526146 09/12/22 19:30\n",
            "3400 528.0595004572506 729.612459281901 09/12/22 19:30\n",
            "3500 568.3983432003904 732.5400714161651 09/12/22 19:30\n",
            "3600 522.8185473020119 717.5707688090229 09/12/22 19:30\n",
            "3700 523.8968901553935 724.654655160717 09/12/22 19:30\n",
            "3800 518.2788185662865 716.3317151225783 09/12/22 19:30\n",
            "3900 540.0292031878797 730.0223620719261 09/12/22 19:30\n",
            "4000 469.3920210402577 719.9204271682217 09/12/22 19:30\n",
            "4100 529.8742067054642 733.624888106048 09/12/22 19:30\n",
            "4200 551.063404875773 739.0359864319181 09/12/22 19:30\n",
            "4300 554.9452649134512 740.249007746489 09/12/22 19:30\n",
            "4400 513.3551345891851 728.3335232138243 09/12/22 19:30\n",
            "4500 571.6012907967249 730.3268457395122 09/12/22 19:30\n",
            "4600 523.7663932471769 719.6450761257839 09/12/22 19:30\n",
            "4700 564.2266481381702 728.4322471182765 09/12/22 19:30\n",
            "4800 502.46212206028963 723.4160292528676 09/12/22 19:30\n",
            "4900 535.0441691020866 729.9422082779678 09/12/22 19:30\n",
            "5000 531.2246484921741 717.219771604156 09/12/22 19:30\n",
            "5100 519.1649758492498 726.7801748308449 09/12/22 19:31\n",
            "5200 531.8629972760368 723.6356976973922 09/12/22 19:31\n",
            "5300 534.000565420446 730.3771804997646 09/12/22 19:31\n",
            "5400 499.63474679218183 718.4492693182146 09/12/22 19:31\n",
            "5500 507.569620682601 735.1352856960159 09/12/22 19:31\n",
            "5600 457.51562510093436 725.2801964372143 09/12/22 19:31\n",
            "5700 558.3660701676673 745.2507597502423 09/12/22 19:31\n",
            "5800 490.5217666884157 725.2173823360848 09/12/22 19:31\n",
            "5900 538.6317601264847 728.9458793254208 09/12/22 19:31\n",
            "6000 541.2233694552891 724.5877498392764 09/12/22 19:31\n",
            "6100 591.4172798768119 725.3247633741886 09/12/22 19:31\n",
            "6200 494.5707119560695 730.6717562694785 09/12/22 19:31\n",
            "6300 576.6673717645017 732.1473144641488 09/12/22 19:31\n",
            "6400 539.9335716726885 732.0571943379134 09/12/22 19:31\n",
            "6500 520.5297118766703 717.5240725718171 09/12/22 19:31\n",
            "6600 522.8550727442921 733.6565207510191 09/12/22 19:31\n",
            "6700 542.8699100724223 728.9830002189528 09/12/22 19:31\n",
            "6800 524.7279027647775 734.5302768448657 09/12/22 19:31\n",
            "6900 552.4698909435955 725.6406270104003 09/12/22 19:31\n",
            "7000 552.2760865353072 734.6168442801309 09/12/22 19:31\n",
            "7100 558.6194682541226 724.8774905771915 09/12/22 19:31\n",
            "7200 576.8379119314883 721.0716012946309 09/12/22 19:31\n",
            "7300 539.5886762378688 731.125088122494 09/12/22 19:31\n",
            "7400 518.9120034968728 714.5774799347828 09/12/22 19:31\n",
            "7500 507.1383198324618 734.1834773511084 09/12/22 19:31\n",
            "7600 516.0939856842682 722.1821550244474 09/12/22 19:31\n",
            "7700 520.727425460222 731.59365528657 09/12/22 19:31\n",
            "7800 526.8510652030387 719.5951907059509 09/12/22 19:31\n",
            "7900 465.63255881399317 720.5324853862456 09/12/22 19:31\n",
            "8000 486.8096136553271 721.303819138292 09/12/22 19:31\n",
            "8100 543.4682488343022 728.0517026287991 09/12/22 19:32\n",
            "8200 538.198922266012 719.6193441212426 09/12/22 19:32\n",
            "8300 551.6009024745842 715.7595289158951 09/12/22 19:32\n",
            "8400 565.6145210917456 726.2351332216089 09/12/22 19:32\n",
            "8500 521.6108936936861 736.7740946035966 09/12/22 19:32\n",
            "8600 539.6364898429828 712.3113727200448 09/12/22 19:32\n",
            "8700 557.6695265413139 726.7146153913521 09/12/22 19:32\n",
            "8800 532.929268751832 719.3135792359237 09/12/22 19:32\n",
            "8900 550.6700900305472 740.77518580675 09/12/22 19:32\n",
            "9000 529.539666559489 721.7432364612313 09/12/22 19:32\n",
            "9100 565.6046598732139 735.0448225055375 09/12/22 19:32\n",
            "9200 530.3979868908607 725.5533651173907 09/12/22 19:32\n",
            "9300 524.5546873459895 726.0798343886839 09/12/22 19:32\n",
            "9400 483.6514379036194 738.4946391646142 09/12/22 19:32\n",
            "9500 494.00733292033107 721.3204397246863 09/12/22 19:32\n",
            "9600 565.6552484133958 730.3345365495112 09/12/22 19:32\n",
            "9700 528.7955852576241 729.7332800388008 09/12/22 19:32\n",
            "9800 568.5855125822573 735.7458519478834 09/12/22 19:32\n",
            "9900 552.0413011200302 720.5500175975129 09/12/22 19:32\n"
          ]
        }
      ]
    },
    {
      "cell_type": "code",
      "source": [
        "best_solution"
      ],
      "metadata": {
        "id": "V-E9ArxrXSmu"
      },
      "execution_count": null,
      "outputs": []
    }
  ]
}